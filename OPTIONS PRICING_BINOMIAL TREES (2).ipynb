{
 "cells": [
  {
   "cell_type": "markdown",
   "id": "f4d7c2ff-5aca-40ba-a257-64637be5f7a6",
   "metadata": {},
   "source": [
    "## AMERICAN PUT OPTIONS WITH THE BINOMIAL TREES PRCING MODEL"
   ]
  },
  {
   "cell_type": "markdown",
   "id": "9e30453f-5fa4-464f-a977-544bbe084048",
   "metadata": {},
   "source": [
    "### Execution timing tra binomial tree slow and fast"
   ]
  },
  {
   "cell_type": "code",
   "execution_count": 1,
   "id": "c64b9296-03c5-4568-9bce-d5074aa91f14",
   "metadata": {},
   "outputs": [],
   "source": []
  },
  {
   "cell_type": "markdown",
   "id": "fd13d2c2-f298-4205-94b4-490c7aeb3de6",
   "metadata": {},
   "source": [
    "### parametri iniziali ( senza calibrazione della voltilità)"
   ]
  },
  {
   "cell_type": "code",
   "execution_count": 30,
   "id": "f35da558-35f2-4025-b383-18dc28103aa0",
   "metadata": {},
   "outputs": [],
   "source": [
    "S0=100 # Prezzo sottostante a t=0\n",
    "K=100 # strike price\n",
    "T=1 # time to maturity\n",
    "r=0.06 # risk free rate\n",
    "N=3 # intervalli temporali 1/3= 4 mesi arr.\n",
    "u=1.1 # up factor\n",
    "d=1/u # down factor\n",
    "\n",
    "opttype= 'P' ## C= CALL , P= PUT"
   ]
  },
  {
   "cell_type": "markdown",
   "id": "e6abd085-be13-4ab6-b84b-d64b84e39bbd",
   "metadata": {},
   "source": [
    "### usiamo cicli 'for' per iterare sui nodi j per ogni steo temporale i"
   ]
  },
  {
   "cell_type": "code",
   "execution_count": 47,
   "id": "85730871-3fe4-4298-9b0c-e63a9d6d7178",
   "metadata": {
    "scrolled": true
   },
   "outputs": [
    {
     "data": {
      "text/plain": [
       "4.654588754602527"
      ]
     },
     "execution_count": 47,
     "metadata": {},
     "output_type": "execute_result"
    }
   ],
   "source": [
    "def american_slow_tree(K,T,S0,r,N,u,d,opttype='P'):\n",
    "    dt=T/N\n",
    "    q=(np.exp(r*dt)-d)/(u-d)\n",
    "    disc=np.exp(-r*dt)\n",
    "\n",
    "    #calcolo prezzi del sottostante a scadenza \n",
    "    S= np.zeros(N+1)\n",
    "    for j in range(0,N+1):\n",
    "        S[j]=S0*u**j*d**(N-j)\n",
    "\n",
    "    # option payoff\n",
    "    C= np.zeros(N+1)\n",
    "    for j in range(0,N+1):\n",
    "        if opttype=='P':\n",
    "         C[j]=max(0,K-S[j])\n",
    "        else:\n",
    "            C[j]=max(0,S[j]-K)\n",
    "\n",
    "    #BACkWARD INDDUCTION THROUGH THE TREE\n",
    "    for i in range(N-1,-1,-1):\n",
    "            for j in range(0,i+1):\n",
    "                S= S0 * u**j * d**(i-j)\n",
    "                C[j]=disc*(q*C[j+1]+(1-q)*C[j])\n",
    "                if opttype=='P':\n",
    "                    C[j]=max(C[j],K-S)\n",
    "                else:\n",
    "                     C[j]=max(C[j],S,-K)\n",
    "    return C[0]\n",
    "                \n",
    "american_slow_tree(K,T,S0,r,N,u,d,opttype='P')"
   ]
  },
  {
   "cell_type": "code",
   "execution_count": null,
   "id": "e1be5a05-ba5d-461c-8fcd-812a46275139",
   "metadata": {},
   "outputs": [],
   "source": []
  }
 ],
 "metadata": {
  "kernelspec": {
   "display_name": "Python 3 (ipykernel)",
   "language": "python",
   "name": "python3"
  },
  "language_info": {
   "codemirror_mode": {
    "name": "ipython",
    "version": 3
   },
   "file_extension": ".py",
   "mimetype": "text/x-python",
   "name": "python",
   "nbconvert_exporter": "python",
   "pygments_lexer": "ipython3",
   "version": "3.12.7"
  }
 },
 "nbformat": 4,
 "nbformat_minor": 5
}
